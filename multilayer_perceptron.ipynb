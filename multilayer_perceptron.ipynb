{
  "nbformat": 4,
  "nbformat_minor": 0,
  "metadata": {
    "colab": {
      "provenance": [],
      "collapsed_sections": [
        "VX5HjQfUM7y5",
        "J4eqyatstH3m",
        "ij2uvvDirTfh",
        "p2HKZ78_FfzA",
        "JTByDICbFjS_",
        "jqMCF8V5M_yo",
        "ls5ILfQtGkmI",
        "W1Oebyk0F7dA",
        "aKjFJ4hIGCm5",
        "gcLnX5SGGMSo",
        "P4S6lX6QGQE4",
        "zkt2pB9lGVBL"
      ]
    },
    "kernelspec": {
      "name": "python3",
      "display_name": "Python 3"
    },
    "language_info": {
      "name": "python"
    }
  },
  "cells": [
    {
      "cell_type": "markdown",
      "source": [
        "# Toolkit"
      ],
      "metadata": {
        "id": "VX5HjQfUM7y5"
      }
    },
    {
      "cell_type": "code",
      "execution_count": 1053,
      "metadata": {
        "id": "M2nYPGMnM3PJ"
      },
      "outputs": [],
      "source": [
        "import numpy as np\n",
        "import pandas as pd\n",
        "\n",
        "from sklearn.model_selection import train_test_split\n",
        "from sklearn.preprocessing import StandardScaler"
      ]
    },
    {
      "cell_type": "markdown",
      "source": [
        "# Dataset"
      ],
      "metadata": {
        "id": "J4eqyatstH3m"
      }
    },
    {
      "cell_type": "code",
      "source": [
        "iris = pd.read_csv(\"/content/Iris.csv\")\n",
        "iris.drop(columns = ['Id'], inplace = True)\n",
        "iris.head()"
      ],
      "metadata": {
        "colab": {
          "base_uri": "https://localhost:8080/",
          "height": 0
        },
        "id": "eMUk5ad_tJLF",
        "outputId": "c4eedec7-c3b8-4fc1-dba2-eb0bbff68f10"
      },
      "execution_count": 1054,
      "outputs": [
        {
          "output_type": "execute_result",
          "data": {
            "text/plain": [
              "   SepalLengthCm  SepalWidthCm  PetalLengthCm  PetalWidthCm      Species\n",
              "0            5.1           3.5            1.4           0.2  Iris-setosa\n",
              "1            4.9           3.0            1.4           0.2  Iris-setosa\n",
              "2            4.7           3.2            1.3           0.2  Iris-setosa\n",
              "3            4.6           3.1            1.5           0.2  Iris-setosa\n",
              "4            5.0           3.6            1.4           0.2  Iris-setosa"
            ],
            "text/html": [
              "\n",
              "  <div id=\"df-76f94d30-0fb1-4f60-a124-098093be0e45\">\n",
              "    <div class=\"colab-df-container\">\n",
              "      <div>\n",
              "<style scoped>\n",
              "    .dataframe tbody tr th:only-of-type {\n",
              "        vertical-align: middle;\n",
              "    }\n",
              "\n",
              "    .dataframe tbody tr th {\n",
              "        vertical-align: top;\n",
              "    }\n",
              "\n",
              "    .dataframe thead th {\n",
              "        text-align: right;\n",
              "    }\n",
              "</style>\n",
              "<table border=\"1\" class=\"dataframe\">\n",
              "  <thead>\n",
              "    <tr style=\"text-align: right;\">\n",
              "      <th></th>\n",
              "      <th>SepalLengthCm</th>\n",
              "      <th>SepalWidthCm</th>\n",
              "      <th>PetalLengthCm</th>\n",
              "      <th>PetalWidthCm</th>\n",
              "      <th>Species</th>\n",
              "    </tr>\n",
              "  </thead>\n",
              "  <tbody>\n",
              "    <tr>\n",
              "      <th>0</th>\n",
              "      <td>5.1</td>\n",
              "      <td>3.5</td>\n",
              "      <td>1.4</td>\n",
              "      <td>0.2</td>\n",
              "      <td>Iris-setosa</td>\n",
              "    </tr>\n",
              "    <tr>\n",
              "      <th>1</th>\n",
              "      <td>4.9</td>\n",
              "      <td>3.0</td>\n",
              "      <td>1.4</td>\n",
              "      <td>0.2</td>\n",
              "      <td>Iris-setosa</td>\n",
              "    </tr>\n",
              "    <tr>\n",
              "      <th>2</th>\n",
              "      <td>4.7</td>\n",
              "      <td>3.2</td>\n",
              "      <td>1.3</td>\n",
              "      <td>0.2</td>\n",
              "      <td>Iris-setosa</td>\n",
              "    </tr>\n",
              "    <tr>\n",
              "      <th>3</th>\n",
              "      <td>4.6</td>\n",
              "      <td>3.1</td>\n",
              "      <td>1.5</td>\n",
              "      <td>0.2</td>\n",
              "      <td>Iris-setosa</td>\n",
              "    </tr>\n",
              "    <tr>\n",
              "      <th>4</th>\n",
              "      <td>5.0</td>\n",
              "      <td>3.6</td>\n",
              "      <td>1.4</td>\n",
              "      <td>0.2</td>\n",
              "      <td>Iris-setosa</td>\n",
              "    </tr>\n",
              "  </tbody>\n",
              "</table>\n",
              "</div>\n",
              "      <button class=\"colab-df-convert\" onclick=\"convertToInteractive('df-76f94d30-0fb1-4f60-a124-098093be0e45')\"\n",
              "              title=\"Convert this dataframe to an interactive table.\"\n",
              "              style=\"display:none;\">\n",
              "        \n",
              "  <svg xmlns=\"http://www.w3.org/2000/svg\" height=\"24px\"viewBox=\"0 0 24 24\"\n",
              "       width=\"24px\">\n",
              "    <path d=\"M0 0h24v24H0V0z\" fill=\"none\"/>\n",
              "    <path d=\"M18.56 5.44l.94 2.06.94-2.06 2.06-.94-2.06-.94-.94-2.06-.94 2.06-2.06.94zm-11 1L8.5 8.5l.94-2.06 2.06-.94-2.06-.94L8.5 2.5l-.94 2.06-2.06.94zm10 10l.94 2.06.94-2.06 2.06-.94-2.06-.94-.94-2.06-.94 2.06-2.06.94z\"/><path d=\"M17.41 7.96l-1.37-1.37c-.4-.4-.92-.59-1.43-.59-.52 0-1.04.2-1.43.59L10.3 9.45l-7.72 7.72c-.78.78-.78 2.05 0 2.83L4 21.41c.39.39.9.59 1.41.59.51 0 1.02-.2 1.41-.59l7.78-7.78 2.81-2.81c.8-.78.8-2.07 0-2.86zM5.41 20L4 18.59l7.72-7.72 1.47 1.35L5.41 20z\"/>\n",
              "  </svg>\n",
              "      </button>\n",
              "      \n",
              "  <style>\n",
              "    .colab-df-container {\n",
              "      display:flex;\n",
              "      flex-wrap:wrap;\n",
              "      gap: 12px;\n",
              "    }\n",
              "\n",
              "    .colab-df-convert {\n",
              "      background-color: #E8F0FE;\n",
              "      border: none;\n",
              "      border-radius: 50%;\n",
              "      cursor: pointer;\n",
              "      display: none;\n",
              "      fill: #1967D2;\n",
              "      height: 32px;\n",
              "      padding: 0 0 0 0;\n",
              "      width: 32px;\n",
              "    }\n",
              "\n",
              "    .colab-df-convert:hover {\n",
              "      background-color: #E2EBFA;\n",
              "      box-shadow: 0px 1px 2px rgba(60, 64, 67, 0.3), 0px 1px 3px 1px rgba(60, 64, 67, 0.15);\n",
              "      fill: #174EA6;\n",
              "    }\n",
              "\n",
              "    [theme=dark] .colab-df-convert {\n",
              "      background-color: #3B4455;\n",
              "      fill: #D2E3FC;\n",
              "    }\n",
              "\n",
              "    [theme=dark] .colab-df-convert:hover {\n",
              "      background-color: #434B5C;\n",
              "      box-shadow: 0px 1px 3px 1px rgba(0, 0, 0, 0.15);\n",
              "      filter: drop-shadow(0px 1px 2px rgba(0, 0, 0, 0.3));\n",
              "      fill: #FFFFFF;\n",
              "    }\n",
              "  </style>\n",
              "\n",
              "      <script>\n",
              "        const buttonEl =\n",
              "          document.querySelector('#df-76f94d30-0fb1-4f60-a124-098093be0e45 button.colab-df-convert');\n",
              "        buttonEl.style.display =\n",
              "          google.colab.kernel.accessAllowed ? 'block' : 'none';\n",
              "\n",
              "        async function convertToInteractive(key) {\n",
              "          const element = document.querySelector('#df-76f94d30-0fb1-4f60-a124-098093be0e45');\n",
              "          const dataTable =\n",
              "            await google.colab.kernel.invokeFunction('convertToInteractive',\n",
              "                                                     [key], {});\n",
              "          if (!dataTable) return;\n",
              "\n",
              "          const docLinkHtml = 'Like what you see? Visit the ' +\n",
              "            '<a target=\"_blank\" href=https://colab.research.google.com/notebooks/data_table.ipynb>data table notebook</a>'\n",
              "            + ' to learn more about interactive tables.';\n",
              "          element.innerHTML = '';\n",
              "          dataTable['output_type'] = 'display_data';\n",
              "          await google.colab.output.renderOutput(dataTable, element);\n",
              "          const docLink = document.createElement('div');\n",
              "          docLink.innerHTML = docLinkHtml;\n",
              "          element.appendChild(docLink);\n",
              "        }\n",
              "      </script>\n",
              "    </div>\n",
              "  </div>\n",
              "  "
            ]
          },
          "metadata": {},
          "execution_count": 1054
        }
      ]
    },
    {
      "cell_type": "markdown",
      "source": [
        "# Perceptron"
      ],
      "metadata": {
        "id": "ij2uvvDirTfh"
      }
    },
    {
      "cell_type": "markdown",
      "source": [
        "## helper classes"
      ],
      "metadata": {
        "id": "p2HKZ78_FfzA"
      }
    },
    {
      "cell_type": "code",
      "source": [
        "class Perceptron:\n",
        "    def __init__(self, n_inputs):\n",
        "        self.weights = np.random.randn(1, n_inputs)\n",
        "        self.bias = np.random.randn(1, 1)\n",
        "    \n",
        "\n",
        "    def fit(self, X, y, learning_rate = 0.1, epochs = 50):\n",
        "        for epoch in range(epochs):\n",
        "            missclassification = 0\n",
        "\n",
        "            for i, data in enumerate(zip(X, y)):\n",
        "                inputs, targets = data\n",
        "\n",
        "                # forward pass\n",
        "                z = inputs @ self.weights.T + self.bias\n",
        "                predictions = np.where(z >= 0, 1, -1)\n",
        "\n",
        "\n",
        "                # loss calculation\n",
        "                losses = targets - predictions\n",
        "                missclassification += abs(losses).sum() / 2\n",
        "\n",
        "\n",
        "                # backward pass\n",
        "                self.weights = self.weights + learning_rate * (losses * inputs).mean(axis = 0)\n",
        "                self.bias = self.bias + learning_rate * losses.mean(axis = 0)\n",
        "            \n",
        "\n",
        "            print('>>epoch=%d, missclassification=%.3f' % (epoch, missclassification))\n",
        "        return self.weights, self.bias\n",
        "    \n",
        "\n",
        "    def predict(self, X):\n",
        "        z = X @ self.weights.T + self.bias\n",
        "        prediction = np.where(z >= 0, 1, -1)\n",
        "        return prediction\n",
        "    \n",
        "\n",
        "    def accuracy(self, targets, preds):\n",
        "        missclassifications = abs((preds.reshape(targets.shape) - targets)).sum() / 2\n",
        "        error = missclassifications / len(targets)\n",
        "        return 1 - error"
      ],
      "metadata": {
        "id": "3xFlfDNx2fj4"
      },
      "execution_count": 1055,
      "outputs": []
    },
    {
      "cell_type": "markdown",
      "source": [
        "## example on iris dataset"
      ],
      "metadata": {
        "id": "JTByDICbFjS_"
      }
    },
    {
      "cell_type": "code",
      "source": [
        "X = iris.drop(columns = ['Species']).to_numpy()\n",
        "\n",
        "y = iris.loc[:, 'Species']\n",
        "y = np.where(y == 'Iris-setosa', 1, -1)\n",
        "X_train, X_test, y_train, y_test = train_test_split(X, y, test_size = 0.3, stratify = y)\n",
        "\n",
        "y_train = y_train.reshape(len(y_train), 1)\n",
        "y_test = y_test.reshape(len(y_test), 1)\n",
        "\n",
        "# std_scaler = StandardScaler()\n",
        "# X_train = std_scaler.fit_transform(X_train)\n",
        "# X_test = std_scaler.transform(X_test)\n",
        "\n",
        "\n",
        "print(X.shape, y.shape)\n",
        "print(X_train.shape, X_test.shape, y_train.shape, y_test.shape)"
      ],
      "metadata": {
        "colab": {
          "base_uri": "https://localhost:8080/"
        },
        "id": "AamTGXiTwhIK",
        "outputId": "1e292269-13d4-4bc0-80a6-02528f463ac4"
      },
      "execution_count": 1056,
      "outputs": [
        {
          "output_type": "stream",
          "name": "stdout",
          "text": [
            "(150, 4) (150,)\n",
            "(105, 4) (45, 4) (105, 1) (45, 1)\n"
          ]
        }
      ]
    },
    {
      "cell_type": "code",
      "source": [
        "model = Perceptron(X_train.shape[1])\n",
        "model.fit(X_train, y_train, epochs = 2)\n",
        "\n",
        "pred = model.predict(X_test)\n",
        "acc = model.accuracy(y_test, pred)\n",
        "print('accuracy: ', acc)\n",
        "\n",
        "# print(model.weights)"
      ],
      "metadata": {
        "colab": {
          "base_uri": "https://localhost:8080/"
        },
        "id": "d6YeL0ZozYqm",
        "outputId": "05d6531e-4abf-4d9c-b3ed-440707816df3"
      },
      "execution_count": 1057,
      "outputs": [
        {
          "output_type": "stream",
          "name": "stdout",
          "text": [
            ">>epoch=0, missclassification=5.000\n",
            ">>epoch=1, missclassification=0.000\n",
            "accuracy:  1.0\n"
          ]
        }
      ]
    },
    {
      "cell_type": "markdown",
      "source": [
        "# MLP"
      ],
      "metadata": {
        "id": "jqMCF8V5M_yo"
      }
    },
    {
      "cell_type": "markdown",
      "source": [
        "## helper classes"
      ],
      "metadata": {
        "id": "ls5ILfQtGkmI"
      }
    },
    {
      "cell_type": "markdown",
      "source": [
        "### activation choices"
      ],
      "metadata": {
        "id": "W1Oebyk0F7dA"
      }
    },
    {
      "cell_type": "code",
      "source": [
        "class Sigmoid:\n",
        "    def __init__(self):\n",
        "        pass\n",
        "    \n",
        "\n",
        "    def forward(self, p_num):\n",
        "        sigmoid_val = 1 / (1 + np.exp(-p_num))\n",
        "        \n",
        "        return sigmoid_val\n",
        "\n",
        "    \n",
        "    def backward(self, p_num):\n",
        "        fx = self.forward(p_num)\n",
        "        derivative = fx * (1 - fx)\n",
        "\n",
        "        return derivative"
      ],
      "metadata": {
        "id": "buSNzU3nppEo"
      },
      "execution_count": 1058,
      "outputs": []
    },
    {
      "cell_type": "code",
      "source": [
        "class Tanh:\n",
        "    def __init__(self):\n",
        "        pass\n",
        "    \n",
        "    def forward(self, p_num):\n",
        "        ez_plus = np.exp(p_num)\n",
        "        ez_minus = np.exp(-p_num)\n",
        "        tanh_val = (ez_plus - ez_minus) / (ez_plus + ez_minus)\n",
        "\n",
        "        return tanh_val\n",
        "    \n",
        "\n",
        "    def backward(self, p_num):\n",
        "        fx = self.forward(p_num)\n",
        "        derivative = 1 - (fx**2)\n",
        "\n",
        "        return derivative"
      ],
      "metadata": {
        "id": "alaaVSB2qEOo"
      },
      "execution_count": 1059,
      "outputs": []
    },
    {
      "cell_type": "code",
      "source": [
        "class ReLu:\n",
        "    def __init__(self):\n",
        "        pass\n",
        "    \n",
        "    def forward(self, p_num):\n",
        "        relu_num = np.maximum(0, p_num)\n",
        "\n",
        "        return relu_num\n",
        "    \n",
        "    \n",
        "    def backward(self, p_num):\n",
        "        derivative = (p_num > 0).astype(int)\n",
        "\n",
        "        return derivative"
      ],
      "metadata": {
        "id": "fMQi1EhRqkhT"
      },
      "execution_count": 1060,
      "outputs": []
    },
    {
      "cell_type": "markdown",
      "source": [
        "### neural layer manager"
      ],
      "metadata": {
        "id": "aKjFJ4hIGCm5"
      }
    },
    {
      "cell_type": "code",
      "source": [
        "'''\n",
        "# n_inputs = #neurons in previous layers (m) OR\n",
        "#            #features in input (m)\n",
        "# n_neurons = #neurons in this layer (n)\n",
        "\n",
        "# weights.shape = (m, n) : n output nodes from layer l, m input nodes from layer l-1\n",
        "# biases.shape = (1, n) : n output nodes\n",
        "\n",
        "# inputs.shape = (k, m) : k examples, m features\n",
        "# outputs.shape = (k, n) : k examples, n nodes at layer l\n",
        "'''\n",
        "\n",
        "\n",
        "# single layer management class\n",
        "class Layer:\n",
        "    def __init__(self, n_inputs, n_neurons, activation, weights_init = 'random', biases_init = 'random'):\n",
        "        self.weights = None\n",
        "        self.biases = None\n",
        "        self.activation = activation\n",
        "        \n",
        "        self._reset_params(weights_init, biases_init, n_neurons, n_inputs)\n",
        "    \n",
        "\n",
        "    def forward(self, inputs):\n",
        "        self.inputs = inputs\n",
        "        self.z = self.inputs @ self.weights + self.biases\n",
        "        self.a = self.activation.forward(self.z)\n",
        "\n",
        "        return self.a\n",
        "\n",
        "\n",
        "    def backward(self, delta, learning_rate, i):\n",
        "        dL_dal = delta\n",
        "        dal_dzl = np.diag(self.activation.backward(self.z)[0])\n",
        "        dzl_dal_1 = self.weights.T\n",
        "        dzl_dwl = self.inputs.T.reshape(self.inputs.T.shape[0], 1)\n",
        "        dzl_dbl = np.ones(self.biases.shape)\n",
        "\n",
        "        dL_dzl = dL_dal @ dal_dzl\n",
        "\n",
        "        self.weights = self.weights - learning_rate * (dzl_dwl @ dL_dzl)\n",
        "        self.biases = self.biases - learning_rate * (dL_dzl)\n",
        "        \n",
        "        return dL_dzl @ dzl_dal_1\n",
        "\n",
        "\n",
        "    def _reset_params(self, weights_init, biases_init, n_neurons, n_inputs):\n",
        "        weights_switcher = {\n",
        "            'random' : self._random_weights,\n",
        "            'zero' : self._zero_weights,\n",
        "            'one' : self._one_weights\n",
        "        }\n",
        "        weights_fxn = weights_switcher.get(weights_init, 1)\n",
        "        if weights_fxn == 1:\n",
        "            print(\"INVALID WEIGHTS TYPE SELECTED!!\")\n",
        "            return weights_fxn;\n",
        "            \n",
        "        biases_switcher = {\n",
        "            'random' : self._random_biases,\n",
        "            'zero' : self._zero_biases,\n",
        "            'one' : self._one_biases\n",
        "        }\n",
        "        biases_fxn = biases_switcher.get(biases_init, 2)\n",
        "        if biases_fxn == 2:\n",
        "            print(\"INVALID biases TYPE SELECTED!!\")\n",
        "            return biases_fxn;\n",
        "        \n",
        "        self.weights = weights_fxn(n_inputs, n_neurons)\n",
        "        self.biases = biases_fxn(n_neurons)\n",
        "\n",
        "\n",
        "    # weight init methods\n",
        "    def _random_weights(self, n_inputs, n_neurons):\n",
        "        weights = np.random.randn(n_inputs, n_neurons)\n",
        "        return weights\n",
        "        \n",
        "    def _zero_weights(self, n_inputs, n_neurons):\n",
        "        weights = np.zeros((n_inputs, n_neurons))\n",
        "        return weights\n",
        "        \n",
        "    def _one_weights(self, n_inputs, n_neurons):\n",
        "        weights = np.ones((n_inputs, n_neurons))\n",
        "        return weights\n",
        "    \n",
        "\n",
        "    # bias init methods\n",
        "    def _random_biases(self, n_neurons):\n",
        "        biases = np.random.randn(1, n_neurons)\n",
        "        return biases\n",
        "        \n",
        "    def _zero_biases(self, n_neurons):\n",
        "        biases = np.zeros((1, n_neurons))\n",
        "        return biases\n",
        "        \n",
        "    def _one_biases(self, n_neurons):\n",
        "        biases = np.ones((1, n_neurons))\n",
        "        return biases"
      ],
      "metadata": {
        "id": "d3Qbd38yPEm2"
      },
      "execution_count": 1061,
      "outputs": []
    },
    {
      "cell_type": "markdown",
      "source": [
        "### loss function choices"
      ],
      "metadata": {
        "id": "gcLnX5SGGMSo"
      }
    },
    {
      "cell_type": "code",
      "source": [
        "class MSE:\n",
        "    def __init__(self):\n",
        "        pass\n",
        "    \n",
        "    def error(self, preds, targets):\n",
        "        losses = (preds - targets)\n",
        "        mse = 0.5 * (losses **2).mean()\n",
        "        return mse\n",
        "    \n",
        "    def derivative(self, preds, targets):\n",
        "        losses = preds - targets\n",
        "        return losses"
      ],
      "metadata": {
        "id": "3bADMFJs9A-l"
      },
      "execution_count": 1062,
      "outputs": []
    },
    {
      "cell_type": "markdown",
      "source": [
        "### MLP implementation"
      ],
      "metadata": {
        "id": "P4S6lX6QGQE4"
      }
    },
    {
      "cell_type": "code",
      "source": [
        "class MLP:\n",
        "    def __init__(self):\n",
        "        self.layers = None\n",
        "        pass\n",
        "    \n",
        "    def add_layer(self, n_inputs, n_neurons, activation, weights_init = 'random', biases_init = 'one'):\n",
        "        if (self.layers == None):\n",
        "            self.layers = []\n",
        "        \n",
        "        new_layer = Layer(n_inputs, n_neurons, activation, weights_init, biases_init)\n",
        "        self.layers.append(new_layer)\n",
        "\n",
        "\n",
        "    def train(self, X, y, loss_fxn, epochs = 50, n_batches = 1, learning_rate = 0.1):\n",
        "\n",
        "        for epoch in range(epochs):\n",
        "            data_batches = zip(X, y) #self._create_batches(X, y, n_batches)\n",
        "            net_loss = 0.0\n",
        "        \n",
        "            for i, data_batch in enumerate(data_batches):\n",
        "                inputs, targets = data_batch\n",
        "\n",
        "                outputs = self._forward(inputs)\n",
        "\n",
        "                loss = loss_fxn.error(outputs, targets)\n",
        "                net_loss += loss\n",
        "\n",
        "                d_loss = loss_fxn.derivative(outputs, targets)\n",
        "                self._backward(d_loss, learning_rate)\n",
        "\n",
        "            print('>>epoch=%d, net loss=%.3f' % (epoch, net_loss))\n",
        "\n",
        "\n",
        "    def _forward(self, X):\n",
        "        input = X\n",
        "        for i, layer in enumerate(self.layers):\n",
        "            output = layer.forward(input)\n",
        "            input = output\n",
        "\n",
        "        return input\n",
        "    \n",
        "\n",
        "    def _backward(self, d_loss, learning_rate):\n",
        "        delta = d_loss #dL_da OR dL_dy\n",
        "        for i, layer in enumerate(self.layers[::-1]):\n",
        "            delta = layer.backward(delta, learning_rate, i)\n",
        "\n",
        "\n",
        "    def predict(self, X):\n",
        "        outputs = self._forward(X)\n",
        "        preds = np.argmax(outputs, axis = 1)\n",
        "        return preds\n",
        "\n",
        "\n",
        "    def accuracy(self, y_pred, y_test):\n",
        "        true = np.argmax(y_test, axis = 1)\n",
        "        count = 0\n",
        "        for i in range(len(true)):\n",
        "            if (true[i] == y_pred[i]):\n",
        "                count += 1\n",
        "        acc = count / len(true)\n",
        "        \n",
        "        return acc\n",
        "\n",
        "\n",
        "    def _create_batches(self, X, y, n_batches):\n",
        "        mini_batches = []\n",
        "        data = np.hstack((X, y))\n",
        "        np.random.shuffle(data)\n",
        "        \n",
        "        batch_size = int(data.shape[0] / n_batches)\n",
        "        i = 0\n",
        "    \n",
        "        for i in range(n_batches + 1):\n",
        "            mini_batch = data[i * batch_size : (i + 1)*batch_size, :]\n",
        "            X_mini = mini_batch[:, :-1]\n",
        "            Y_mini = mini_batch[:, -1].reshape((-1, 1))\n",
        "            mini_batches.append((X_mini, Y_mini))\n",
        "\n",
        "        if data.shape[0] % batch_size != 0:\n",
        "            mini_batch = data[i * batch_size:data.shape[0]]\n",
        "            X_mini = mini_batch[:, :-1]\n",
        "            Y_mini = mini_batch[:, -1].reshape((-1, 1))\n",
        "            mini_batches.append((X_mini, Y_mini))\n",
        "        return mini_batches"
      ],
      "metadata": {
        "id": "5CWsEf7m8ePu"
      },
      "execution_count": 1063,
      "outputs": []
    },
    {
      "cell_type": "markdown",
      "source": [
        "## example on iris dataset"
      ],
      "metadata": {
        "id": "zkt2pB9lGVBL"
      }
    },
    {
      "cell_type": "code",
      "source": [
        "X = iris.drop(columns = ['Species']).to_numpy()\n",
        "\n",
        "target_classes = np.array(iris.Species.unique())\n",
        "target = iris.Species.to_numpy()\n",
        "y = np.array([(i == target_classes).astype(dtype=int) for i in target])\n",
        "\n",
        "X_train, X_test, y_train, y_test = train_test_split(X, y, test_size = 0.3, stratify = y)\n",
        "\n",
        "std_scaler = StandardScaler()\n",
        "X_train = std_scaler.fit_transform(X_train)\n",
        "X_test = std_scaler.transform(X_test)\n",
        "\n",
        "print(X.shape, y.shape)\n",
        "print(X_train.shape, X_test.shape, y_train.shape, y_test.shape)"
      ],
      "metadata": {
        "colab": {
          "base_uri": "https://localhost:8080/"
        },
        "id": "3zY8JuOFfWmP",
        "outputId": "4190830f-07fc-4afc-ba05-f045221ed4e3"
      },
      "execution_count": 1064,
      "outputs": [
        {
          "output_type": "stream",
          "name": "stdout",
          "text": [
            "(150, 4) (150, 3)\n",
            "(105, 4) (45, 4) (105, 3) (45, 3)\n"
          ]
        }
      ]
    },
    {
      "cell_type": "code",
      "source": [
        "model = MLP()\n",
        "\n",
        "model.add_layer(X_train.shape[1], 4, Tanh(), biases_init = 'random')\n",
        "model.add_layer(4, 5, Tanh(), biases_init = 'random')\n",
        "model.add_layer(5, 3, Sigmoid(), biases_init = 'random')\n",
        "\n",
        "model.train(X_train, y_train, MSE(), epochs = 15, learning_rate = 1)"
      ],
      "metadata": {
        "colab": {
          "base_uri": "https://localhost:8080/"
        },
        "id": "ZkaN1TDgqs5N",
        "outputId": "11f52ddc-c38e-423b-aae4-340c18ff07b5"
      },
      "execution_count": 1065,
      "outputs": [
        {
          "output_type": "stream",
          "name": "stdout",
          "text": [
            ">>epoch=0, net loss=6.376\n",
            ">>epoch=1, net loss=3.172\n",
            ">>epoch=2, net loss=3.376\n",
            ">>epoch=3, net loss=2.911\n",
            ">>epoch=4, net loss=1.378\n",
            ">>epoch=5, net loss=1.422\n",
            ">>epoch=6, net loss=1.837\n",
            ">>epoch=7, net loss=1.542\n",
            ">>epoch=8, net loss=2.121\n",
            ">>epoch=9, net loss=1.757\n",
            ">>epoch=10, net loss=1.720\n",
            ">>epoch=11, net loss=1.278\n",
            ">>epoch=12, net loss=1.207\n",
            ">>epoch=13, net loss=1.518\n",
            ">>epoch=14, net loss=1.235\n"
          ]
        }
      ]
    },
    {
      "cell_type": "code",
      "source": [
        "y_pred = model.predict(X_test)\n",
        "acc = model.accuracy(y_pred, y_test)\n",
        "print(\"accuracy: \", acc)"
      ],
      "metadata": {
        "colab": {
          "base_uri": "https://localhost:8080/"
        },
        "id": "ZXkJGdZo-7qH",
        "outputId": "e04452a2-8de8-4e4c-ba0a-ad9bc5b9462d"
      },
      "execution_count": 1066,
      "outputs": [
        {
          "output_type": "stream",
          "name": "stdout",
          "text": [
            "accuracy:  1.0\n"
          ]
        }
      ]
    }
  ]
}
